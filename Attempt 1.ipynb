{
 "cells": [
  {
   "cell_type": "code",
   "execution_count": 14,
   "id": "elder-grade",
   "metadata": {},
   "outputs": [],
   "source": [
    "import numpy as np\n",
    "from scipy.stats import norm"
   ]
  },
  {
   "cell_type": "code",
   "execution_count": 3,
   "id": "vertical-shadow",
   "metadata": {},
   "outputs": [],
   "source": [
    "train_df = np.load(\"./Assignment1-Dataset/train_data.npy\")"
   ]
  },
  {
   "cell_type": "code",
   "execution_count": 4,
   "id": "falling-picnic",
   "metadata": {},
   "outputs": [
    {
     "data": {
      "text/plain": [
       "array([[ -6.40101763,   2.72903876,   1.50171052, ...,   0.22933369,\n",
       "         -0.1535829 ,   0.54404128],\n",
       "       [  0.82978338,  -0.94994322,   6.0037526 , ...,   0.04319449,\n",
       "         -0.0157158 ,  -0.28907615],\n",
       "       [  7.73019978, -11.52210233,  -2.75362051, ...,   0.01458726,\n",
       "         -0.35582987,   0.18428758],\n",
       "       ...,\n",
       "       [  0.70734659, -11.34252124,  -0.39391488, ...,  -0.49020993,\n",
       "         -0.21487252,  -0.03641533],\n",
       "       [ 11.36790901,  -3.37597765,   5.56619766, ...,  -0.63245635,\n",
       "         -0.07775427,   0.56149881],\n",
       "       [  4.19279645,  -1.18418848,  -4.44596297, ...,  -0.04935812,\n",
       "          0.16881497,   0.07433337]])"
      ]
     },
     "execution_count": 4,
     "metadata": {},
     "output_type": "execute_result"
    }
   ],
   "source": [
    "train_df"
   ]
  },
  {
   "cell_type": "code",
   "execution_count": 5,
   "id": "progressive-france",
   "metadata": {},
   "outputs": [],
   "source": [
    "train_label = np.load(\"./Assignment1-Dataset/train_label.npy\")"
   ]
  },
  {
   "cell_type": "code",
   "execution_count": 6,
   "id": "historical-wisdom",
   "metadata": {},
   "outputs": [
    {
     "data": {
      "text/plain": [
       "array([[6],\n",
       "       [9],\n",
       "       [9],\n",
       "       ...,\n",
       "       [9],\n",
       "       [1],\n",
       "       [1]], dtype=uint8)"
      ]
     },
     "execution_count": 6,
     "metadata": {},
     "output_type": "execute_result"
    }
   ],
   "source": [
    "train_label"
   ]
  },
  {
   "cell_type": "code",
   "execution_count": 7,
   "id": "answering-consortium",
   "metadata": {},
   "outputs": [
    {
     "data": {
      "text/plain": [
       "(50000, 128)"
      ]
     },
     "execution_count": 7,
     "metadata": {},
     "output_type": "execute_result"
    }
   ],
   "source": [
    "train_df.shape"
   ]
  },
  {
   "cell_type": "code",
   "execution_count": 13,
   "id": "southern-master",
   "metadata": {},
   "outputs": [],
   "source": [
    "observation = train_df[1]"
   ]
  },
  {
   "cell_type": "code",
   "execution_count": 20,
   "id": "communist-homework",
   "metadata": {},
   "outputs": [
    {
     "name": "stdout",
     "output_type": "stream",
     "text": [
      "Weights shape is: (8, 128)\n",
      "Bias shape is: (8,)\n"
     ]
    }
   ],
   "source": [
    "# We know that there'll be 128 columns for this dataset\n",
    "# Say that there'll be 8 neurons for our first layer\n",
    "\n",
    "weights = norm.rvs(size = [8,128])\n",
    "bias = norm.rvs(size = 8)\n",
    "print(f\"Weights shape is: {weights.shape}\")\n",
    "print(f\"Bias shape is: {bias.shape}\")"
   ]
  },
  {
   "cell_type": "code",
   "execution_count": 26,
   "id": "hydraulic-resolution",
   "metadata": {},
   "outputs": [],
   "source": [
    "z = np.sum(weights.dot(observation) + bias)"
   ]
  },
  {
   "cell_type": "code",
   "execution_count": 27,
   "id": "leading-silver",
   "metadata": {},
   "outputs": [
    {
     "data": {
      "text/plain": [
       "-52.435756278453994"
      ]
     },
     "execution_count": 27,
     "metadata": {},
     "output_type": "execute_result"
    }
   ],
   "source": []
  },
  {
   "cell_type": "code",
   "execution_count": null,
   "id": "alleged-stand",
   "metadata": {},
   "outputs": [],
   "source": [
    "a = "
   ]
  }
 ],
 "metadata": {
  "kernelspec": {
   "display_name": "Python 3",
   "language": "python",
   "name": "python3"
  },
  "language_info": {
   "codemirror_mode": {
    "name": "ipython",
    "version": 3
   },
   "file_extension": ".py",
   "mimetype": "text/x-python",
   "name": "python",
   "nbconvert_exporter": "python",
   "pygments_lexer": "ipython3",
   "version": "3.8.5"
  }
 },
 "nbformat": 4,
 "nbformat_minor": 5
}
